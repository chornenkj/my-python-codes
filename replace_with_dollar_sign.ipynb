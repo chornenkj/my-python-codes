{
 "cells": [
  {
   "cell_type": "markdown",
   "id": "f0340955",
   "metadata": {},
   "source": [
    "The task is to build a script to replace symbols which are equal to the first character into symbol '$' in the given string, except the first character."
   ]
  },
  {
   "cell_type": "markdown",
   "id": "43fc8edb",
   "metadata": {},
   "source": [
    "I have built two scripts and compared time for executing both of them"
   ]
  },
  {
   "cell_type": "code",
   "execution_count": 2,
   "id": "29f4347b",
   "metadata": {},
   "outputs": [],
   "source": [
    "def replace_it1(s):\n",
    "    li = [x for x in s]\n",
    "    for el in range(1,len(li)):\n",
    "        if li[el] == li[0]:\n",
    "            li[el] = '$'\n",
    "    return ''.join(li)"
   ]
  },
  {
   "cell_type": "code",
   "execution_count": 8,
   "id": "a4922539",
   "metadata": {},
   "outputs": [],
   "source": [
    "def replace_it2(s):\n",
    "    return s[0] + s[1:].replace(s[0],'$')"
   ]
  },
  {
   "cell_type": "code",
   "execution_count": 14,
   "id": "7b205cde",
   "metadata": {},
   "outputs": [
    {
     "data": {
      "text/plain": [
       "170"
      ]
     },
     "execution_count": 14,
     "metadata": {},
     "output_type": "execute_result"
    }
   ],
   "source": [
    "s = 'sjlajlsg;ldsjglaj;ls jgias;gia;slgiua;lig;aliurta94 up8tqyp438yt ;aiuew;uwetua;wetu9; 8a4wat;weujf ioaioi a ;irug;arioya;oa lsdhflahsldjfh lahdslfhalsd fhlkajhsfaiout;oih'\n",
    "len(s)"
   ]
  },
  {
   "cell_type": "code",
   "execution_count": 12,
   "id": "8d259e9a",
   "metadata": {},
   "outputs": [
    {
     "name": "stdout",
     "output_type": "stream",
     "text": [
      "160 µs ± 3.08 µs per loop (mean ± std. dev. of 7 runs, 10,000 loops each)\n"
     ]
    }
   ],
   "source": [
    "%%timeit\n",
    "replace_it1(s)"
   ]
  },
  {
   "cell_type": "code",
   "execution_count": 13,
   "id": "58445b94",
   "metadata": {},
   "outputs": [
    {
     "name": "stdout",
     "output_type": "stream",
     "text": [
      "4.23 µs ± 35.7 ns per loop (mean ± std. dev. of 7 runs, 100,000 loops each)\n"
     ]
    }
   ],
   "source": [
    "%%timeit\n",
    "replace_it2(s)"
   ]
  },
  {
   "cell_type": "code",
   "execution_count": null,
   "id": "bee10b2e",
   "metadata": {},
   "outputs": [],
   "source": []
  }
 ],
 "metadata": {
  "kernelspec": {
   "display_name": "Python 3 (ipykernel)",
   "language": "python",
   "name": "python3"
  },
  "language_info": {
   "codemirror_mode": {
    "name": "ipython",
    "version": 3
   },
   "file_extension": ".py",
   "mimetype": "text/x-python",
   "name": "python",
   "nbconvert_exporter": "python",
   "pygments_lexer": "ipython3",
   "version": "3.9.12"
  }
 },
 "nbformat": 4,
 "nbformat_minor": 5
}
